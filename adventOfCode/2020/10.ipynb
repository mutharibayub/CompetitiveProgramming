{
 "cells": [
  {
   "cell_type": "code",
   "execution_count": null,
   "metadata": {},
   "outputs": [],
   "source": [
    "#task 1\n",
    "with open(\"10dec2021input.txt\", \"r\") as f:\n",
    "    inputNums = [int(ele) for ele in f.read().split('\\n')]\n",
    "\n",
    "inputNums = sorted(inputNums)\n",
    "inputNums = [0] + inputNums + [inputNums[-1]+3]\n",
    "\n",
    "counts = [0,0]\n",
    "for count in range(len(inputNums)-1):\n",
    "    if inputNums[count+1]-inputNums[count] == 1:\n",
    "        counts[0] += 1\n",
    "    elif inputNums[count+1]-inputNums[count] == 3:\n",
    "        counts[1] += 1\n",
    "    \n",
    "print(counts[0]*counts[1])"
   ]
  },
  {
   "cell_type": "code",
   "execution_count": 9,
   "metadata": {},
   "outputs": [
    {
     "name": "stdout",
     "output_type": "stream",
     "text": [
      "9256148959232\n"
     ]
    }
   ],
   "source": [
    "#task 2\n",
    "\n",
    "with open(\"10dec2021input.txt\", \"r\") as f:\n",
    "    inputNums = [int(ele) for ele in f.read().split('\\n')]\n",
    "\n",
    "inputNums = sorted(inputNums, reverse=True)\n",
    "inputNums = [inputNums[0]+3] + inputNums + [0]\n",
    "possibs = [0 for i in range(len(inputNums))]\n",
    "possibs[0] = 1\n",
    "\n",
    "for i in range(1,len(inputNums)):\n",
    "    c = i-1\n",
    "    while inputNums[c]-3 <= inputNums[i]:\n",
    "        possibs[i] += possibs[c]\n",
    "        c -= 1\n",
    "        if c < 0:\n",
    "            break\n",
    "        \n",
    "print(possibs[-1])\n",
    "\n"
   ]
  },
  {
   "cell_type": "code",
   "execution_count": null,
   "metadata": {},
   "outputs": [],
   "source": []
  }
 ],
 "metadata": {
  "kernelspec": {
   "display_name": "Python 3",
   "language": "python",
   "name": "python3"
  },
  "language_info": {
   "codemirror_mode": {
    "name": "ipython",
    "version": 3
   },
   "file_extension": ".py",
   "mimetype": "text/x-python",
   "name": "python",
   "nbconvert_exporter": "python",
   "pygments_lexer": "ipython3",
   "version": "3.8.5"
  }
 },
 "nbformat": 4,
 "nbformat_minor": 4
}
