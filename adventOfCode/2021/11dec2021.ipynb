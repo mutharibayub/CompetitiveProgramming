{
 "cells": [
  {
   "cell_type": "code",
   "execution_count": 21,
   "metadata": {},
   "outputs": [
    {
     "name": "stdout",
     "output_type": "stream",
     "text": [
      "Wall time: 58 ms\n"
     ]
    },
    {
     "data": {
      "text/plain": [
       "1719"
      ]
     },
     "execution_count": 21,
     "metadata": {},
     "output_type": "execute_result"
    }
   ],
   "source": [
    "%%time\n",
    "# task 1\n",
    "def getAdjacent(x, y, width, height): #returns list of coords(string of the form \"x,y\") that are adjacent to input coords\n",
    "    outList = []\n",
    "    if x-1!=-1:\n",
    "        outList.append(f\"{x-1},{y}\")\n",
    "        if y-1!=-1:\n",
    "            outList.append(f\"{x-1},{y-1}\")\n",
    "        if y+1!=height:\n",
    "            outList.append(f\"{x-1},{y+1}\")\n",
    "    if x+1!=width:\n",
    "        outList.append(f\"{x+1},{y}\")\n",
    "        if y-1!=-1:\n",
    "            outList.append(f\"{x+1},{y-1}\")\n",
    "        if y+1!=height:\n",
    "            outList.append(f\"{x+1},{y+1}\")\n",
    "    if y-1!=-1:\n",
    "        outList.append(f\"{x},{y-1}\")\n",
    "    if y+1!=height:\n",
    "        outList.append(f\"{x},{y+1}\")\n",
    "    return outList\n",
    "\n",
    "def performStep(grid, width, height): #performs one step of increasing energy on grid and returns number of flashes\n",
    "    queue = []\n",
    "    flashed = []\n",
    "    flashes = 0\n",
    "    for colNum in range(len(grid)):\n",
    "        for rowNum in range(len(grid[colNum])):\n",
    "            coord = f\"{colNum},{rowNum}\"\n",
    "            if coord in flashed:\n",
    "                continue\n",
    "            val = grid[colNum][rowNum]\n",
    "            val += 1\n",
    "            if val == 10:\n",
    "                val = 0\n",
    "                flashed.append(coord)\n",
    "                queue.extend(getAdjacent(colNum,rowNum,width,height))\n",
    "                flashes += 1\n",
    "            grid[colNum][rowNum] = val\n",
    "            \n",
    "    while len(queue) != 0:\n",
    "        coord = queue[0]\n",
    "        xcoord = ord(coord.split(',')[0])-48\n",
    "        ycoord = ord(coord.split(',')[1])-48\n",
    "        if coord in flashed:\n",
    "            queue.pop(0)\n",
    "            continue\n",
    "        val = grid[xcoord][ycoord]\n",
    "        val += 1\n",
    "        if val == 10:\n",
    "            val = 0\n",
    "            flashed.append(coord)\n",
    "            queue.extend(getAdjacent(xcoord,ycoord,width,height))\n",
    "            flashes += 1\n",
    "        queue.pop(0)\n",
    "        grid[xcoord][ycoord] = val\n",
    "    return flashes\n",
    "\n",
    "with open(\"11dec2021input.txt\", \"r\") as f:\n",
    "    grid = [[int(num) for num in row] for row in f.read().split('\\n') if row.strip()!=\"\"]\n",
    "\n",
    "width = len(grid[0])\n",
    "height = len(grid)\n",
    "\n",
    "flashCount = 0\n",
    "for i in range(100):\n",
    "    flashCount += performStep(grid, width, height)\n",
    "\n",
    "flashCount"
   ]
  },
  {
   "cell_type": "code",
   "execution_count": 19,
   "metadata": {},
   "outputs": [
    {
     "name": "stdout",
     "output_type": "stream",
     "text": [
      "Wall time: 82 ms\n"
     ]
    },
    {
     "data": {
      "text/plain": [
       "232"
      ]
     },
     "execution_count": 19,
     "metadata": {},
     "output_type": "execute_result"
    }
   ],
   "source": [
    "%%time\n",
    "# task 2\n",
    "def getAdjacent(x, y, width, height): #returns list of coords(string of the form \"x,y\") that are adjacent to input coords\n",
    "    outList = []\n",
    "    if x-1!=-1:\n",
    "        outList.append(f\"{x-1},{y}\")\n",
    "        if y-1!=-1:\n",
    "            outList.append(f\"{x-1},{y-1}\")\n",
    "        if y+1!=height:\n",
    "            outList.append(f\"{x-1},{y+1}\")\n",
    "    if x+1!=width:\n",
    "        outList.append(f\"{x+1},{y}\")\n",
    "        if y-1!=-1:\n",
    "            outList.append(f\"{x+1},{y-1}\")\n",
    "        if y+1!=height:\n",
    "            outList.append(f\"{x+1},{y+1}\")\n",
    "    if y-1!=-1:\n",
    "        outList.append(f\"{x},{y-1}\")\n",
    "    if y+1!=height:\n",
    "        outList.append(f\"{x},{y+1}\")\n",
    "    return outList\n",
    "\n",
    "def getVal(grid, coord): #gets grid and coord(string in form \"x,y\") and returns value stored at that coord in grid\n",
    "    return grid[int(coord.split(',')[0])][int(coord.split(',')[1])]\n",
    "    \n",
    "def updateVal(grid, coord, newVal): #updates value at a coord in grid with newVal\n",
    "    grid[int(coord.split(',')[0])][int(coord.split(',')[1])] = newVal\n",
    "    \n",
    "def performStep(grid, width, height): #performs one step of increasing energy on grid and returns number of flashes\n",
    "    queue = []\n",
    "    flashed = []\n",
    "    flashes = 0\n",
    "    for colNum in range(len(grid)):\n",
    "        for rowNum in range(len(grid[colNum])):\n",
    "            coord = f\"{colNum},{rowNum}\"\n",
    "            if coord in flashed:\n",
    "                continue\n",
    "            val = grid[colNum][rowNum]\n",
    "            val += 1\n",
    "            if val == 10:\n",
    "                val = 0\n",
    "                flashed.append(coord)\n",
    "                queue.extend(getAdjacent(colNum,rowNum,width,height))\n",
    "                flashes += 1\n",
    "            grid[colNum][rowNum] = val\n",
    "            \n",
    "    while len(queue) != 0:\n",
    "        coord = queue[0]\n",
    "        xcoord = ord(coord.split(',')[0])-48\n",
    "        ycoord = ord(coord.split(',')[1])-48\n",
    "        if coord in flashed:\n",
    "            queue.pop(0)\n",
    "            continue\n",
    "        val = grid[xcoord][ycoord]\n",
    "        val += 1\n",
    "        if val == 10:\n",
    "            val = 0\n",
    "            flashed.append(coord)\n",
    "            queue.extend(getAdjacent(xcoord,ycoord,width,height))\n",
    "            flashes += 1\n",
    "        queue.pop(0)\n",
    "        grid[xcoord][ycoord] = val\n",
    "    return flashes\n",
    "\n",
    "with open(\"11dec2021input.txt\", \"r\") as f:\n",
    "    grid = [[int(num) for num in row] for row in f.read().split('\\n') if row.strip()!=\"\"]\n",
    "\n",
    "width = len(grid[0])\n",
    "height = len(grid)\n",
    "\n",
    "stepCount = 1\n",
    "while True:\n",
    "    if performStep(grid, width, height) == width*height:\n",
    "        break\n",
    "    stepCount += 1\n",
    "stepCount"
   ]
  },
  {
   "cell_type": "code",
   "execution_count": null,
   "metadata": {},
   "outputs": [],
   "source": []
  }
 ],
 "metadata": {
  "kernelspec": {
   "display_name": "Python 3",
   "language": "python",
   "name": "python3"
  },
  "language_info": {
   "codemirror_mode": {
    "name": "ipython",
    "version": 3
   },
   "file_extension": ".py",
   "mimetype": "text/x-python",
   "name": "python",
   "nbconvert_exporter": "python",
   "pygments_lexer": "ipython3",
   "version": "3.8.5"
  }
 },
 "nbformat": 4,
 "nbformat_minor": 4
}
