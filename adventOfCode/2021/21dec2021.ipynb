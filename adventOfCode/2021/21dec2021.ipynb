{
 "cells": [
  {
   "cell_type": "code",
   "execution_count": 1,
   "metadata": {},
   "outputs": [
    {
     "name": "stdout",
     "output_type": "stream",
     "text": [
      "752247\n"
     ]
    }
   ],
   "source": [
    "# task 1\n",
    "\n",
    "with open(\"21dec2021input.txt\", \"r\") as f:\n",
    "    inputText = f.read().split('\\n')\n",
    "    p1 = int(inputText[0].split(':')[1])\n",
    "    p2 = int(inputText[1].split(':')[1])\n",
    "    \n",
    "dice = 1\n",
    "steps = 0\n",
    "p1Score = 0\n",
    "p2Score = 0\n",
    "while True:\n",
    "    for i in range(3):\n",
    "        p1 = ((p1+dice-1)%10)+1\n",
    "        dice = ((dice)%100)+1\n",
    "    p1Score += p1\n",
    "    steps += 3\n",
    "    if p1Score>=1000:\n",
    "        break\n",
    "    for i in range(3):\n",
    "        p2 = ((p2+dice-1)%10)+1\n",
    "        dice = ((dice)%100)+1\n",
    "    p2Score += p2\n",
    "    steps += 3\n",
    "    if p2Score>=1000:\n",
    "        break\n",
    "if p1<p2:\n",
    "    answer = p1Score*steps\n",
    "else:\n",
    "    answer = p2Score*steps\n",
    "print(answer)"
   ]
  },
  {
   "cell_type": "code",
   "execution_count": null,
   "metadata": {},
   "outputs": [],
   "source": [
    "def simGame1(turn, posDict, scoreDict, winsDict, winScore):\n",
    "    for throw1 in range(1,4):\n",
    "        for throw2 in range(1,4):\n",
    "            for throw3 in range(1,4):\n",
    "                ele = throw1 + throw2 + throw3\n",
    "                tempPos = {key:val for (key,val) in posDict.items()}\n",
    "                tempScore = {key:val for (key,val) in scoreDict.items()}\n",
    "                tempPos[turn] = ((tempPos[turn]+ele-1)%10)+1\n",
    "                tempScore[turn] += tempPos[turn]\n",
    "                if tempScore[turn] >= winScore:\n",
    "                    winsDict[turn] += 1\n",
    "                    continue\n",
    "                else:\n",
    "                    winsDict = simGame1((turn+1)%2, tempPos, tempScore, {key:val for (key,val) in winsDict.items()}, winScore)\n",
    "    return winsDict     \n",
    "\n",
    "simGame1(0, {0:4,1:8}, {0:0,1:0}, {0:0,1:0}, 1)"
   ]
  },
  {
   "cell_type": "code",
   "execution_count": null,
   "metadata": {},
   "outputs": [],
   "source": [
    "def simGame2(turn, posDict, scoreDict, winsDict, winScore, throwDict, realityCount):\n",
    "    for ele in throwDict:\n",
    "        tempPos = {key:val for (key,val) in posDict.items()}\n",
    "        tempScore = {key:val for (key,val) in scoreDict.items()}\n",
    "        tempPos[turn] = ((tempPos[turn]+ele-1)%10)+1\n",
    "        tempScore[turn] += tempPos[turn]\n",
    "        if tempScore[turn] >= winScore:\n",
    "            winsDict[turn] += realityCount*throwDict[ele]\n",
    "            continue\n",
    "        else:\n",
    "            winsDict = simGame2((turn+1)%2, tempPos, tempScore, {key:val for (key,val) in winsDict.items()}, winScore, throwDict, realityCount*throwDict[ele])\n",
    "    return winsDict     \n",
    "\n",
    "throwList = []\n",
    "for throw1 in range(1,4):\n",
    "    for throw2 in range(1,4):\n",
    "        for throw3 in range(1,4):\n",
    "            throwList.append(throw1+throw2+throw3)\n",
    "throwDict = {ele:throwList.count(ele) for ele in throwList}\n",
    "simGame2(0, {0:4,1:8}, {0:0,1:0}, {0:0,1:0}, 6, throwDict, 1)"
   ]
  },
  {
   "cell_type": "code",
   "execution_count": 15,
   "metadata": {},
   "outputs": [
    {
     "name": "stdout",
     "output_type": "stream",
     "text": [
      "Wall time: 16.6 s\n"
     ]
    },
    {
     "data": {
      "text/plain": [
       "{'Player 1 Wins': 226964276308698849995,\n",
       " 'Player 2 Wins': 145112773072682154472}"
      ]
     },
     "execution_count": 15,
     "metadata": {},
     "output_type": "execute_result"
    }
   ],
   "source": [
    "%%time\n",
    "def simGame3(p1, p1Score, p2, p2Score, winScore):\n",
    "    realityDict = {}\n",
    "    realityDict[(p1,p1Score,p2,p2Score)] = 1\n",
    "    winsDict = {0:0,1:0}\n",
    "    while len(realityDict):\n",
    "        for turn in range(2):\n",
    "            toBeAdded = []\n",
    "            for key in realityDict:\n",
    "                for t1 in range(1,4):\n",
    "                    for t2 in range(1,4):\n",
    "                        for t3 in range(1,4):\n",
    "                                newDataList = [key[i] for i in range(4)]\n",
    "                                newDataList[turn*2] = ((key[turn*2]+t1+t2+t3-1)%10)+1\n",
    "                                newDataList[turn*2+1] = key[turn*2+1]+newDataList[turn*2]\n",
    "                                if newDataList[turn*2+1] >= winScore:\n",
    "                                    winsDict[turn] += realityDict[key]\n",
    "                                else:\n",
    "                                    newReality = tuple(newDataList)\n",
    "                                    toBeAdded.append((newReality,realityDict[key]))                \n",
    "                realityDict[key] = 0\n",
    "            for ele in toBeAdded:\n",
    "                if ele[0] in realityDict:\n",
    "                    realityDict[ele[0]] += ele[1]\n",
    "                else:\n",
    "                    realityDict[ele[0]] = ele[1]\n",
    "            toRemove = []\n",
    "            for key in realityDict:\n",
    "                if realityDict[key] == 0:\n",
    "                    toRemove.append(key)\n",
    "            for ele in toRemove:\n",
    "                realityDict.pop(ele,None)\n",
    "    return {\n",
    "        \"Player 1 Wins\":winsDict[0],\n",
    "        \"Player 2 Wins\":winsDict[1],\n",
    "    }\n",
    "\n",
    "simGame3(p1, 0, p2, 0, 30)"
   ]
  },
  {
   "cell_type": "code",
   "execution_count": 30,
   "metadata": {},
   "outputs": [
    {
     "name": "stdout",
     "output_type": "stream",
     "text": [
      "Wall time: 27.7 s\n"
     ]
    },
    {
     "data": {
      "text/plain": [
       "{'Player 1 Wins': 6023479374065293957043123590637344,\n",
       " 'Player 2 Wins': 4566211004340713413404446541723913}"
      ]
     },
     "execution_count": 30,
     "metadata": {},
     "output_type": "execute_result"
    }
   ],
   "source": [
    "%%time\n",
    "def simGame4(p1, p1Score, p2, p2Score, winScore, throwDict):\n",
    "    realityDict = {}\n",
    "    realityDict[(p1,p1Score,p2,p2Score)] = 1\n",
    "    winsDict = {0:0,1:0}\n",
    "    while len(realityDict):\n",
    "        for turn in range(2):\n",
    "            toBeAdded = []\n",
    "            for key in realityDict:\n",
    "                for ele in throwDict:\n",
    "                    newDataList = [key[i] for i in range(4)]\n",
    "                    newDataList[turn*2] = ((key[turn*2]+ele-1)%10)+1\n",
    "                    newDataList[turn*2+1] = key[turn*2+1]+newDataList[turn*2]\n",
    "                    if newDataList[turn*2+1] >= winScore:\n",
    "                        winsDict[turn] += realityDict[key]*throwDict[ele]\n",
    "                    else:\n",
    "                        newReality = tuple(newDataList)\n",
    "                        toBeAdded.append((newReality,realityDict[key]*throwDict[ele]))                \n",
    "                realityDict[key] = 0\n",
    "            for ele in toBeAdded:\n",
    "                if ele[0] in realityDict:\n",
    "                    realityDict[ele[0]] += ele[1]\n",
    "                else:\n",
    "                    realityDict[ele[0]] = ele[1]\n",
    "            toRemove = []\n",
    "            for key in realityDict:\n",
    "                if realityDict[key] == 0:\n",
    "                    toRemove.append(key)\n",
    "            for ele in toRemove:\n",
    "                realityDict.pop(ele,None)\n",
    "    return {\n",
    "        \"Player 1 Wins\":winsDict[0],\n",
    "        \"Player 2 Wins\":winsDict[1],\n",
    "    }\n",
    "\n",
    "throwList = []\n",
    "for throw1 in range(1,4):\n",
    "    for throw2 in range(1,4):\n",
    "        for throw3 in range(1,4):\n",
    "            throwList.append(throw1+throw2+throw3)\n",
    "throwDict = {ele:throwList.count(ele) for ele in throwList}\n",
    "\n",
    "simGame4(p1, 0, p2, 0, 50, throwDict)"
   ]
  },
  {
   "cell_type": "code",
   "execution_count": 29,
   "metadata": {},
   "outputs": [
    {
     "name": "stdout",
     "output_type": "stream",
     "text": [
      "7\n",
      "49\n",
      "343\n",
      "2401\n",
      "5047\n"
     ]
    },
    {
     "ename": "KeyboardInterrupt",
     "evalue": "",
     "output_type": "error",
     "traceback": [
      "\u001b[1;31m---------------------------------------------------------------------------\u001b[0m",
      "\u001b[1;31mKeyboardInterrupt\u001b[0m                         Traceback (most recent call last)",
      "\u001b[1;32m<timed exec>\u001b[0m in \u001b[0;36m<module>\u001b[1;34m\u001b[0m\n",
      "\u001b[1;32m<timed exec>\u001b[0m in \u001b[0;36msimGame5\u001b[1;34m(p1, p1Score, p2, p2Score, winScore, throwDict)\u001b[0m\n",
      "\u001b[1;31mKeyboardInterrupt\u001b[0m: "
     ]
    }
   ],
   "source": [
    "%%time\n",
    "def simGame5(p1, p1Score, p2, p2Score, winScore, throwDict): #slower than last\n",
    "    realityList = []\n",
    "    realityList.append([p1,p1Score,p2,p2Score,1])\n",
    "    winsDict = {0:0,1:0}\n",
    "    while len(realityList):\n",
    "        for turn in range(2):\n",
    "            toBeAdded = []\n",
    "            for ite in range(len(realityList)):\n",
    "                for ele in throwDict:\n",
    "                    newReality = [realityList[ite][i] for i in range(5)]\n",
    "                    newReality[turn*2] = ((newReality[turn*2]+ele-1)%10)+1\n",
    "                    newReality[turn*2+1] = newReality[turn*2+1]+newReality[turn*2]\n",
    "                    newReality[4] = newReality[4]*throwDict[ele]\n",
    "                    if newReality[turn*2+1] >= winScore:\n",
    "                        winsDict[turn] += newReality[4]\n",
    "                    else:\n",
    "                        toBeAdded.append(newReality)                \n",
    "                realityList[ite][4] = 0\n",
    "            for ele in toBeAdded:\n",
    "                index = -1\n",
    "                for ite in range(len(realityList)):\n",
    "                    if realityList[ite][0] == ele[0] and realityList[ite][1] == ele[1] and realityList[ite][2] == ele[2] and realityList[ite][3] == ele[3]:\n",
    "                        index = ite\n",
    "                        break\n",
    "                if index!=-1:\n",
    "                    realityList[ite][4] += ele[4]\n",
    "                else:\n",
    "                    realityList.append([a for a in ele])\n",
    "            realityList = [ele for ele in realityList if ele[4]!=0]\n",
    "            print(len(realityList))\n",
    "    return {\n",
    "        \"Player 1 Wins\":winsDict[0],\n",
    "        \"Player 2 Wins\":winsDict[1],\n",
    "    }\n",
    "\n",
    "throwList = []\n",
    "for throw1 in range(1,4):\n",
    "    for throw2 in range(1,4):\n",
    "        for throw3 in range(1,4):\n",
    "            throwList.append(throw1+throw2+throw3)\n",
    "throwDict = {ele:throwList.count(ele) for ele in throwList}\n",
    "\n",
    "simGame5(p1, 0, p2, 0, 21, throwDict)"
   ]
  },
  {
   "cell_type": "code",
   "execution_count": null,
   "metadata": {},
   "outputs": [],
   "source": []
  }
 ],
 "metadata": {
  "kernelspec": {
   "display_name": "Python 3",
   "language": "python",
   "name": "python3"
  },
  "language_info": {
   "codemirror_mode": {
    "name": "ipython",
    "version": 3
   },
   "file_extension": ".py",
   "mimetype": "text/x-python",
   "name": "python",
   "nbconvert_exporter": "python",
   "pygments_lexer": "ipython3",
   "version": "3.8.5"
  }
 },
 "nbformat": 4,
 "nbformat_minor": 4
}
