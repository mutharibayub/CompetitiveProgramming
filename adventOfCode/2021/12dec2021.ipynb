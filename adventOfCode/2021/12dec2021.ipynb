{
 "cells": [
  {
   "cell_type": "code",
   "execution_count": 32,
   "metadata": {},
   "outputs": [
    {
     "data": {
      "text/plain": [
       "{100: 'VJ',\n",
       " 0: 'nx',\n",
       " -2: 'start',\n",
       " 1: 'sv',\n",
       " 99: 'UL',\n",
       " 98: 'FN',\n",
       " 2: 'zl',\n",
       " -1: 'end',\n",
       " 3: 'hi',\n",
       " 4: 'em',\n",
       " 5: 'jx'}"
      ]
     },
     "execution_count": 32,
     "metadata": {},
     "output_type": "execute_result"
    }
   ],
   "source": [
    "def isLower(s):\n",
    "    for char in s:\n",
    "        if ord(char)>=65 and ord(char)<=90:\n",
    "            return False\n",
    "    return True\n",
    "\n",
    "with open(\"12dec2021input.txt\", \"r\") as f:\n",
    "    text = f.read()\n",
    "\n",
    "caves = []    \n",
    "[caves.extend(ele.split('-')) for ele in text.split('\\n') if ele.strip()!='']\n",
    "cavesDi = {key:None for key in caves}\n",
    "smallCount = 0\n",
    "largeCount = 100\n",
    "for key in cavesDi:\n",
    "    if key == \"start\":\n",
    "        cavesDi[key] = -2\n",
    "    elif key == \"end\":\n",
    "        cavesDi[key] = -1\n",
    "    elif isLower(key):\n",
    "        cavesDi[key] = smallCount\n",
    "        smallCount += 1\n",
    "    else:\n",
    "        cavesDi[key] = largeCount\n",
    "        largeCount -= 1\n",
    "cavesDi\n",
    "invert = {cavesDi[key]:key for key in cavesDi}\n",
    "invert"
   ]
  },
  {
   "cell_type": "code",
   "execution_count": 20,
   "metadata": {},
   "outputs": [
    {
     "name": "stdout",
     "output_type": "stream",
     "text": [
      "90\n"
     ]
    }
   ],
   "source": [
    "print(ord(\"Z\"))"
   ]
  },
  {
   "cell_type": "code",
   "execution_count": null,
   "metadata": {},
   "outputs": [],
   "source": []
  },
  {
   "cell_type": "code",
   "execution_count": null,
   "metadata": {},
   "outputs": [],
   "source": []
  }
 ],
 "metadata": {
  "kernelspec": {
   "display_name": "Python 3",
   "language": "python",
   "name": "python3"
  },
  "language_info": {
   "codemirror_mode": {
    "name": "ipython",
    "version": 3
   },
   "file_extension": ".py",
   "mimetype": "text/x-python",
   "name": "python",
   "nbconvert_exporter": "python",
   "pygments_lexer": "ipython3",
   "version": "3.8.5"
  }
 },
 "nbformat": 4,
 "nbformat_minor": 4
}
