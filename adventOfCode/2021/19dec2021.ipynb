{
 "cells": [
  {
   "cell_type": "code",
   "execution_count": 41,
   "metadata": {},
   "outputs": [
    {
     "name": "stdout",
     "output_type": "stream",
     "text": [
      "0 :  4 (-105,1139,-25)\n",
      "0 :  7 (-53,-1123,-1163)\n",
      "0 :  9 (1029,97,54)\n",
      "0 :  12 (1124,79,-1224)\n",
      "0 :  15 (-52,-1077,57)\n",
      "0 :  18 (-73,33,-1062)\n",
      "0 :  21 (-1365,28,25)\n",
      "0 :  23 (-107,58,1179)\n",
      "0 :  24 (-1233,112,1185)\n",
      "0 :  28 (-61,-1223,1261)\n",
      "0 :  33 (-1302,90,-1065)\n",
      "4 :  14 (-1242,1164,-1095)\n",
      "7 :  19 (1015,-1145,-2381)\n",
      "7 :  26 (-1318,-1114,-2371)\n",
      "7 :  30 (-1352,-1070,-1205)\n",
      "7 :  31 (-161,-2304,-11)\n",
      "7 :  35 (-36,-1136,-2315)\n",
      "9 :  16 (2222,-22,-1089)\n",
      "12 :  8 (2389,88,-2360)\n",
      "12 :  29 (1041,-28,-2311)\n",
      "12 :  32 (2304,1183,-1133)\n",
      "14 :  1 (-2492,-58,-1091)\n",
      "14 :  10 (-2396,1310,-1055)\n",
      "14 :  13 (-2540,1261,-2270)\n",
      "14 :  22 (-2556,1277,113)\n",
      "14 :  37 (-1371,49,-2391)\n",
      "26 :  2 (-2393,81,-2410)\n",
      "26 :  25 (-2497,-2293,-2261)\n",
      "26 :  34 (-1243,108,-3587)\n",
      "26 :  36 (-1222,-2455,-2422)\n",
      "31 :  27 (-91,-3604,150)\n",
      "32 :  5 (2287,2483,-1225)\n",
      "34 :  3 (-1280,-43,-4782)\n",
      "34 :  39 (-2481,119,-3620)\n",
      "36 :  17 (-2421,-2410,-3461)\n",
      "39 :  20 (-3669,-1169,-3499)\n",
      "39 :  38 (-3764,69,-3546)\n",
      "10 :  6 (-2478,2452,-2347)\n",
      "20 :  11 (-4869,118,-3499)\n"
     ]
    },
    {
     "data": {
      "text/plain": [
       "465"
      ]
     },
     "execution_count": 41,
     "metadata": {},
     "output_type": "execute_result"
    }
   ],
   "source": [
    "#task 1\n",
    "\n",
    "class coord:\n",
    "    def __init__(self, xc=0,yc=0,zc=0):\n",
    "        self.x = int(xc)\n",
    "        self.y = int(yc)\n",
    "        self.z = int(zc)\n",
    "    \n",
    "    def __eq__(self, other):\n",
    "        if self.x == other.x and self.y == other.y and self.z == other.z:\n",
    "            return True\n",
    "        else:\n",
    "            return False    \n",
    "\n",
    "    def __add__(self, o):\n",
    "        return coord(self.x+o.x, self.y+o.y, self.z+o.z)        \n",
    "    \n",
    "    def __sub__(self, o):\n",
    "        return coord(self.x-o.x, self.y-o.y, self.z-o.z)        \n",
    "\n",
    "    def __repr__(self):\n",
    "        return f\"({self.x},{self.y},{self.z})\"    \n",
    "\n",
    "    def __eq__(self,o):\n",
    "        if type(o)!=type(self):\n",
    "            return False\n",
    "        elif self.x==o.x and self.y==o.y and self.z==o.z:\n",
    "            return True\n",
    "        return False\n",
    "    \n",
    "    def getRotation(self, num):\n",
    "        count = 0\n",
    "        (ix,iy,iz) = (self.x,self.y,self.z)\n",
    "        faces = [coord(ix,iy,iz), coord(-1*ix,-1*iy,iz), coord(iy,-1*ix,iz), coord(-1*iy,ix,iz), coord(iz,iy,-1*ix), coord(-1*iz,iy,ix)]\n",
    "        iterC = -1\n",
    "        for face in faces:\n",
    "            iterC += 1\n",
    "            for rot in range(4):\n",
    "                count += 1\n",
    "                if count == num:\n",
    "                    return coord(face.x,face.y,face.z)\n",
    "                if iterC in [0,1]:\n",
    "                    (face.x,face.y,face.z) = (face.x,-1*face.z,face.y)\n",
    "                elif iterC in [2,3]:\n",
    "                    (face.x,face.y,face.z) = (-1*face.z,face.y,face.x)\n",
    "                elif iterC in [4,5]:\n",
    "                    (face.x,face.y,face.z) = (-1*face.y,face.x,face.z)\n",
    "\n",
    "def hasEmpty(li):\n",
    "    for ele in li:\n",
    "        if ele==None:\n",
    "            return True\n",
    "    return False\n",
    "\n",
    "with open('19dec2021input.txt','r') as f:\n",
    "    inputText = ['\\n'.join(ele.split('\\n')[1:]) for ele in f.read().split('\\n\\n')]\n",
    "\n",
    "inputText = [[coord(ele.split(',')[0],ele.split(',')[1],ele.split(',')[2]) for ele in sc.split('\\n')] for sc in inputText]\n",
    "\n",
    "baseScanner = -1\n",
    "relative = [None for i in range(len(inputText))]\n",
    "relative[0] = coord(0,0,0)\n",
    "while hasEmpty(relative):\n",
    "    baseScanner = (baseScanner+1)%len(inputText)\n",
    "    while relative[baseScanner]==None:\n",
    "        baseScanner = (baseScanner+1)%len(inputText)        \n",
    "    for scannerNum in range(0,len(inputText)):\n",
    "        if relative[scannerNum]!=None:\n",
    "            continue\n",
    "        for rotNum in range(1,25):\n",
    "            possibRelCoords = []\n",
    "            for beacon2 in inputText[scannerNum]:\n",
    "                beacon2 = beacon2.getRotation(rotNum)\n",
    "                for beacon1 in inputText[baseScanner]:\n",
    "                    possibRelCoords.append(str(beacon1-beacon2+relative[baseScanner]))\n",
    "            for ele in possibRelCoords:\n",
    "                if possibRelCoords.count(ele)>4:\n",
    "                    ele = ele.strip('(').strip(')').split(',')\n",
    "                    relative[scannerNum] = coord(ele[0],ele[1],ele[2])\n",
    "                    inputText[scannerNum] = [ele.getRotation(rotNum) for ele in inputText[scannerNum]]\n",
    "                    print(baseScanner, \": \",scannerNum, relative[scannerNum])\n",
    "                    break\n",
    "beacons = []\n",
    "for scannerNum in range(len(inputText)):\n",
    "    for ele in inputText[scannerNum]:\n",
    "        beacons.append(str(relative[scannerNum]+ele))\n",
    "beacons = list({ele for ele in beacons})\n",
    "len(beacons)"
   ]
  },
  {
   "cell_type": "code",
   "execution_count": 42,
   "metadata": {},
   "outputs": [
    {
     "data": {
      "text/plain": [
       "12149"
      ]
     },
     "execution_count": 42,
     "metadata": {},
     "output_type": "execute_result"
    }
   ],
   "source": [
    "maxDist = 0\n",
    "for i in range(len(inputText)):\n",
    "    for j in range(len(inputText)):\n",
    "        dist = abs(relative[i].x-relative[j].x) + abs(relative[i].y-relative[j].y) + abs(relative[i].z-relative[j].z)\n",
    "        if dist>maxDist:\n",
    "            maxDist = dist\n",
    "maxDist"
   ]
  },
  {
   "cell_type": "code",
   "execution_count": null,
   "metadata": {},
   "outputs": [],
   "source": []
  }
 ],
 "metadata": {
  "kernelspec": {
   "display_name": "Python 3",
   "language": "python",
   "name": "python3"
  },
  "language_info": {
   "codemirror_mode": {
    "name": "ipython",
    "version": 3
   },
   "file_extension": ".py",
   "mimetype": "text/x-python",
   "name": "python",
   "nbconvert_exporter": "python",
   "pygments_lexer": "ipython3",
   "version": "3.8.5"
  }
 },
 "nbformat": 4,
 "nbformat_minor": 4
}
