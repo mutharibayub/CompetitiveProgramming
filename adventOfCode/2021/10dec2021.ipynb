{
 "cells": [
  {
   "cell_type": "code",
   "execution_count": 18,
   "metadata": {},
   "outputs": [
    {
     "data": {
      "text/plain": [
       "26397"
      ]
     },
     "execution_count": 18,
     "metadata": {},
     "output_type": "execute_result"
    }
   ],
   "source": [
    "# task 1\n",
    "\n",
    "def matches(char1, char2):\n",
    "    opening = [\"{\",\"(\",\"[\",\"<\"]\n",
    "    closing = [\"}\",\")\",\"]\",\">\"]\n",
    "    return opening.index(char1)==closing.index(char2)\n",
    "    \n",
    "def getIllegalChars(inputLine):\n",
    "    illegalChars = []\n",
    "    stk = []\n",
    "    for ele in inputLine:\n",
    "        if ele in [\"}\",\")\",\"]\",\">\"]:\n",
    "            if stk == [] or not matches(stk[-1],ele):\n",
    "                illegalChars.append(ele)\n",
    "                stk.pop()\n",
    "            else:\n",
    "                stk.pop()\n",
    "        else:\n",
    "            stk.append(ele)\n",
    "    return illegalChars\n",
    "\n",
    "with open('10dec2021input.txt','r') as f:\n",
    "    inputLines = [ele for ele in f.read().split('\\n') if ele.strip()!='']\n",
    "\n",
    "illegalChars = []    \n",
    "for ele in inputLines:\n",
    "    illegalChars.extend(getIllegalChars(ele))\n",
    "\n",
    "score = 0\n",
    "for ele in illegalChars:\n",
    "    if ele == \")\":\n",
    "        score += 3\n",
    "    elif ele == \"]\":\n",
    "        score += 57\n",
    "    elif ele == \"}\":\n",
    "        score += 1197\n",
    "    elif ele == \">\":\n",
    "        score += 25137\n",
    "score"
   ]
  },
  {
   "cell_type": "code",
   "execution_count": 29,
   "metadata": {},
   "outputs": [
    {
     "data": {
      "text/plain": [
       "2391385187"
      ]
     },
     "execution_count": 29,
     "metadata": {},
     "output_type": "execute_result"
    }
   ],
   "source": [
    "# task 2\n",
    "# task 1\n",
    "\n",
    "def matches(char1, char2):\n",
    "    opening = [\"{\",\"(\",\"[\",\"<\"]\n",
    "    closing = [\"}\",\")\",\"]\",\">\"]\n",
    "    return opening.index(char1)==closing.index(char2)\n",
    "    \n",
    "def getCompletionScore(inputLine):\n",
    "    stk = []\n",
    "    illegalChars = []\n",
    "    for ele in inputLine:\n",
    "        if ele in [\"}\",\")\",\"]\",\">\"]:\n",
    "            if stk == [] or not matches(stk[-1],ele):\n",
    "                illegalChars.append(ele)\n",
    "                stk.pop()\n",
    "            else:\n",
    "                stk.pop()\n",
    "        else:\n",
    "            stk.append(ele)\n",
    "    if len(illegalChars) == 0 and len(stk)!=0:\n",
    "        stk = list(reversed(stk))\n",
    "        currScore = 0\n",
    "        for ele in stk:\n",
    "            currScore *= 5\n",
    "            if ele == \"(\":\n",
    "                currScore += 1\n",
    "            elif ele == \"[\":\n",
    "                currScore += 2\n",
    "            elif ele == \"{\":\n",
    "                currScore += 3\n",
    "            elif ele == \"<\":\n",
    "                currScore += 4\n",
    "        return currScore\n",
    "    else:\n",
    "        return 0\n",
    "    \n",
    "with open('10dec2021input.txt','r') as f:\n",
    "    inputLines = [ele for ele in f.read().split('\\n') if ele.strip()!='']\n",
    "\n",
    "scores = []    \n",
    "for ele in inputLines:\n",
    "    thisScore = getCompletionScore(ele)\n",
    "    if thisScore:\n",
    "        scores.append(thisScore)\n",
    "\n",
    "scores.sort()\n",
    "scores[int(len(scores)/2)]"
   ]
  },
  {
   "cell_type": "code",
   "execution_count": null,
   "metadata": {},
   "outputs": [],
   "source": []
  }
 ],
 "metadata": {
  "kernelspec": {
   "display_name": "Python 3",
   "language": "python",
   "name": "python3"
  },
  "language_info": {
   "codemirror_mode": {
    "name": "ipython",
    "version": 3
   },
   "file_extension": ".py",
   "mimetype": "text/x-python",
   "name": "python",
   "nbconvert_exporter": "python",
   "pygments_lexer": "ipython3",
   "version": "3.8.5"
  }
 },
 "nbformat": 4,
 "nbformat_minor": 4
}
