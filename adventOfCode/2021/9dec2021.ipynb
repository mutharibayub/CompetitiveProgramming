{
 "cells": [
  {
   "cell_type": "code",
   "execution_count": 21,
   "metadata": {},
   "outputs": [
    {
     "name": "stdout",
     "output_type": "stream",
     "text": [
      "15\n"
     ]
    }
   ],
   "source": [
    "# task 1\n",
    "def getAdjacent(x, y, width, height, mode):#1 for top, 2 for bottom, 3 for left, 4 for right\n",
    "    if mode == 1:\n",
    "        return [x,y-1] if y!=0 else None\n",
    "    elif mode == 2:\n",
    "        return [x,y+1] if y!=height-1 else None\n",
    "    elif mode == 3:\n",
    "        return [x-1,y] if x!=0 else None\n",
    "    elif mode == 4:\n",
    "        return [x+1,y] if x!=width-1 else None\n",
    "    else:\n",
    "        print(\"Invalid Mode\")\n",
    "        return None\n",
    "\n",
    "with open('9dec2021input.txt' ,'r') as f:\n",
    "    grid = [ele for ele in f.read().split('\\n') if ele.strip()!='']\n",
    "    \n",
    "width = len(grid[0])\n",
    "height = len(grid)\n",
    "\n",
    "sume = 0\n",
    "for y in range(height):\n",
    "    for x in range(width):\n",
    "        thisVal = int(grid[y][x])\n",
    "        lowPoint = True\n",
    "        for i in range(1,5):\n",
    "            coords = getAdjacent(x,y,width,height,i)\n",
    "            if coords:\n",
    "                if int(grid[coords[1]][coords[0]]) <= thisVal:\n",
    "                    lowPoint = False\n",
    "            if not lowPoint:\n",
    "                break\n",
    "        if lowPoint:\n",
    "#             print(x, y)\n",
    "            sume += thisVal+1\n",
    "print(sume)"
   ]
  },
  {
   "cell_type": "code",
   "execution_count": 114,
   "metadata": {},
   "outputs": [
    {
     "name": "stdout",
     "output_type": "stream",
     "text": [
      "Wall time: 140 ms\n"
     ]
    }
   ],
   "source": [
    "%%time\n",
    "# task 2 - saving low Points\n",
    "def getAdjacent(x, y, width, height, mode):#1 for top, 2 for bottom, 3 for left, 4 for right\n",
    "    if mode == 1:\n",
    "        return [x,y-1] if y!=0 else None\n",
    "    elif mode == 2:\n",
    "        return [x,y+1] if y!=height-1 else None\n",
    "    elif mode == 3:\n",
    "        return [x-1,y] if x!=0 else None\n",
    "    elif mode == 4:\n",
    "        return [x+1,y] if x!=width-1 else None\n",
    "    else:\n",
    "        print(\"Invalid Mode\")\n",
    "        return None\n",
    "\n",
    "def basinPointsList(grid, x, y, width, height, basinPoints):\n",
    "    thisVal = int(grid[y][x])\n",
    "    if thisVal == 9:\n",
    "        return\n",
    "#     print (\"Start:\",x,y)\n",
    "    basinPoints.append(f'{x},{y}')\n",
    "#     print(basinPoints)\n",
    "    for i in range(1,5):\n",
    "        coords = getAdjacent(x,y,width,height,i)\n",
    "        if coords:\n",
    "#             print(coords,\":\", int(grid[coords[1]][coords[0]]) ,'>', thisVal, 'points:',basinPoints)\n",
    "            if int(grid[coords[1]][coords[0]]) > thisVal and f\"{coords[0]},{coords[1]}\" not in basinPoints:\n",
    "#                 print(\"Yes\")\n",
    "                basinPointsList(grid, coords[0], coords[1], width, height, basinPoints)\n",
    "#     print('--')\n",
    "\n",
    "with open('9dec2021input.txt' ,'r') as f:\n",
    "    grid = [ele for ele in f.read().split('\\n') if ele.strip()!='']\n",
    "    \n",
    "width = len(grid[0])\n",
    "height = len(grid)\n",
    "\n",
    "lowPoints = []\n",
    "\n",
    "for y in range(height):\n",
    "    for x in range(width):\n",
    "        thisVal = int(grid[y][x])\n",
    "        lowPoint = True\n",
    "        for i in range(1,5):\n",
    "            coords = getAdjacent(x,y,width,height,i)\n",
    "            if coords:\n",
    "                if int(grid[coords[1]][coords[0]]) <= thisVal:\n",
    "                    lowPoint = False\n",
    "            if not lowPoint:\n",
    "                break\n",
    "        if lowPoint:\n",
    "            lowPoints.append(f\"{x},{y}\")\n",
    "# lowPoints"
   ]
  },
  {
   "cell_type": "code",
   "execution_count": 115,
   "metadata": {},
   "outputs": [
    {
     "name": "stdout",
     "output_type": "stream",
     "text": [
      "Wall time: 61.9 ms\n"
     ]
    }
   ],
   "source": [
    "%%time\n",
    "#task 2 - finding all the basins in input\n",
    "\n",
    "basinLists = []\n",
    "\n",
    "for ele in lowPoints:\n",
    "    basinList = []\n",
    "    basinPointsList(grid, int(ele.split(',')[0]), int(ele.split(',')[1]), width, height, basinList)\n",
    "    basinLists.append(basinList)\n",
    "# basinLists"
   ]
  },
  {
   "cell_type": "code",
   "execution_count": 120,
   "metadata": {},
   "outputs": [
    {
     "name": "stdout",
     "output_type": "stream",
     "text": [
      "1038240\n",
      "Wall time: 19 ms\n"
     ]
    }
   ],
   "source": [
    "%%time\n",
    "#task 2 - getting the top 3 basin lists (by length)\n",
    "\n",
    "for i in range(len(basinLists)-1):\n",
    "    for j in range(len(basinLists)-i-1):\n",
    "        if len(basinLists[j]) < len(basinLists[j+1]):\n",
    "            temp = basinLists[j]\n",
    "            basinLists[j] = basinLists[j+1]\n",
    "            basinLists[j+1] = temp\n",
    "top3Lengths = [len(ele) for ele in basinLists[:3]]\n",
    "# top3Lengths\n",
    "product = top3Lengths[0]*top3Lengths[1]*top3Lengths[2]\n",
    "print(product)"
   ]
  }
 ],
 "metadata": {
  "kernelspec": {
   "display_name": "Python 3",
   "language": "python",
   "name": "python3"
  },
  "language_info": {
   "codemirror_mode": {
    "name": "ipython",
    "version": 3
   },
   "file_extension": ".py",
   "mimetype": "text/x-python",
   "name": "python",
   "nbconvert_exporter": "python",
   "pygments_lexer": "ipython3",
   "version": "3.8.5"
  }
 },
 "nbformat": 4,
 "nbformat_minor": 4
}
