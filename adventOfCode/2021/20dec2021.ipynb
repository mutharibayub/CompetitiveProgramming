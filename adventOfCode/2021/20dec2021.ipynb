{
 "cells": [
  {
   "cell_type": "code",
   "execution_count": 90,
   "metadata": {},
   "outputs": [
    {
     "data": {
      "text/plain": [
       "17172"
      ]
     },
     "execution_count": 90,
     "metadata": {},
     "output_type": "execute_result"
    }
   ],
   "source": [
    "#task 1 and task 2\n",
    "def enhance(algo, inputImage):\n",
    "    special = False\n",
    "    if algo[0] == \"#\":\n",
    "        if algo[-1] == \".\":\n",
    "            special = True\n",
    "        else:\n",
    "            print(\"Can not enhance infinite Image\\n\")\n",
    "            return inputImage\n",
    "    if not special or (special and \"#\" in inputImage[0] and \".\" in inputImage[0]):\n",
    "        for i in range(2):\n",
    "            inputImage.insert(0,['.' for i in range(len(inputImage[0]))])\n",
    "            inputImage.append(['.' for i in range(len(inputImage[0]))])   \n",
    "            for i in range(len(inputImage)):\n",
    "                inputImage[i].insert(0,'.')\n",
    "                inputImage[i].append('.')\n",
    "            if not special:\n",
    "                break\n",
    "                \n",
    "    newImage = [['.' for i in range(len(inputImage[0]))] for i in range(len(inputImage))]\n",
    "#     print(len(inputImage[0]), len(newImage[0]))\n",
    "#     print(len(inputImage), len(newImage))\n",
    "#     inputImage = [''.join(ele) for ele in inputImage]\n",
    "#     inputImage = '\\n'.join(inputImage)\n",
    "#     print(inputImage)\n",
    "    for ycoord in range(len(inputImage)):\n",
    "        for xcoord in range(len(inputImage[ycoord])):\n",
    "            pixelBinary = \"\"\n",
    "            for i in range(-1,2):\n",
    "                if ycoord+i>=len(inputImage):\n",
    "                    i-=len(inputImage)\n",
    "                for j in range(-1,2):\n",
    "                    if xcoord+j>=len(inputImage[0]):\n",
    "                        j-=len(inputImage[0])\n",
    "                    pixelBinary += inputImage[ycoord+i][xcoord+j]\n",
    "#             print(getDenary(pixelBinary),'\\t', ycoord, xcoord)\n",
    "            newImage[ycoord][xcoord] = algo[getDenary(pixelBinary)] \n",
    "    return newImage\n",
    "        \n",
    "def getDenary(pixelBinary):\n",
    "    num = 0\n",
    "    for char in pixelBinary:\n",
    "        num*=2\n",
    "        if char == \"#\":\n",
    "            num += 1\n",
    "    return num        \n",
    "\n",
    "def countLit(image):\n",
    "    count = 0\n",
    "    for row in image:\n",
    "        for ele in row:\n",
    "            if ele == \"#\":\n",
    "                count += 1\n",
    "    return count\n",
    "\n",
    "with open(\"20dec2021input.txt\",\"r\") as f:\n",
    "    inputText = f.read().split('\\n\\n')\n",
    "    enhanceAlgo = inputText[0].replace('\\n','')\n",
    "    startImage = [list(ele) for ele in inputText[1].split('\\n')]\n",
    "\n",
    "# for ele in startImage:\n",
    "#     print(ele)\n",
    "\n",
    "image = startImage\n",
    "for i in range(50):\n",
    "    image = enhance(enhanceAlgo,image)\n",
    "        \n",
    "# image = [''.join(ele) for ele in image]\n",
    "# image = '\\n'.join(image)\n",
    "# print(image)\n",
    "\n",
    "countLit(image)"
   ]
  },
  {
   "cell_type": "code",
   "execution_count": null,
   "metadata": {},
   "outputs": [],
   "source": []
  }
 ],
 "metadata": {
  "kernelspec": {
   "display_name": "Python 3",
   "language": "python",
   "name": "python3"
  },
  "language_info": {
   "codemirror_mode": {
    "name": "ipython",
    "version": 3
   },
   "file_extension": ".py",
   "mimetype": "text/x-python",
   "name": "python",
   "nbconvert_exporter": "python",
   "pygments_lexer": "ipython3",
   "version": "3.8.5"
  }
 },
 "nbformat": 4,
 "nbformat_minor": 4
}
