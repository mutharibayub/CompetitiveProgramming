{
 "cells": [
  {
   "cell_type": "code",
   "execution_count": 33,
   "metadata": {},
   "outputs": [
    {
     "name": "stdout",
     "output_type": "stream",
     "text": [
      "@  @ @@@@ @  @ @  @ @@@@ @@@@   @@ @@@@\n",
      "@  @    @ @ @  @  @ @    @       @    @\n",
      "@@@@   @  @@   @@@@ @@@  @@@     @   @ \n",
      "@  @  @   @ @  @  @ @    @       @  @  \n",
      "@  @ @    @ @  @  @ @    @    @  @ @   \n",
      "@  @ @@@@ @  @ @  @ @    @@@@  @@  @@@@\n"
     ]
    }
   ],
   "source": [
    "#task 1 and 2\n",
    "def makeFold(dotData, foldIns):\n",
    "    foldIns = foldIns.split('=')\n",
    "    along = foldIns[0].strip()[-1]\n",
    "    foldNum = int(foldIns[1])\n",
    "    newDotData = []\n",
    "    for ele in dotData:\n",
    "        if along == \"x\":\n",
    "            if ele[0] > foldNum:\n",
    "                ele[0] = ele[0]-2*(ele[0]-foldNum)\n",
    "                newDotData.append(ele)\n",
    "            elif ele[0] < foldNum:\n",
    "                newDotData.append(ele)\n",
    "        elif along == \"y\":\n",
    "            if ele[1] > foldNum:\n",
    "                ele[1] = ele[1]-2*(ele[1]-foldNum)\n",
    "                newDotData.append(ele)\n",
    "            elif ele[1] < foldNum:\n",
    "                newDotData.append(ele)\n",
    "    newDotData = [list(ele) for ele in list({tuple(ele) for ele in newDotData})]\n",
    "    return newDotData\n",
    "\n",
    "def makeDrawing(dotData):\n",
    "    xCoords = [ele[0] for ele in dotData]\n",
    "    yCoords = [ele[1] for ele in dotData]\n",
    "    (minX, minY, maxX, maxY) = (min(xCoords), min(yCoords), max(xCoords)+1, max(yCoords)+1)\n",
    "    grid = [[' ' for horiz in range(maxX- minX)] for vert in range(maxY - minY)]\n",
    "    for ele in dotData:\n",
    "        grid[ele[1]-minY][ele[0]-minX] = '@'\n",
    "    strGrid = '\\n'.join([''.join(ele) for ele in grid])\n",
    "    return strGrid\n",
    "    \n",
    "with open('13dec2021input.txt', 'r') as f:\n",
    "    inputText = f.read().split('\\n\\n')\n",
    "    dotData = [[int(ele.split(',')[0]), int(ele.split(',')[1])] for ele in inputText[0].split('\\n')]\n",
    "    foldIns = inputText[1].split('\\n')\n",
    "\n",
    "for i in range(len(foldIns)):\n",
    "    dotData = makeFold(dotData, foldIns[i])\n",
    "\n",
    "print(makeDrawing(dotData))"
   ]
  },
  {
   "cell_type": "code",
   "execution_count": null,
   "metadata": {},
   "outputs": [],
   "source": []
  }
 ],
 "metadata": {
  "kernelspec": {
   "display_name": "Python 3",
   "language": "python",
   "name": "python3"
  },
  "language_info": {
   "codemirror_mode": {
    "name": "ipython",
    "version": 3
   },
   "file_extension": ".py",
   "mimetype": "text/x-python",
   "name": "python",
   "nbconvert_exporter": "python",
   "pygments_lexer": "ipython3",
   "version": "3.8.5"
  }
 },
 "nbformat": 4,
 "nbformat_minor": 4
}
